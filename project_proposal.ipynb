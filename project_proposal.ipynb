{
 "cells": [
  {
   "cell_type": "markdown",
   "id": "0c6e3639-4abe-45bb-a6db-d7c4f2135bd9",
   "metadata": {},
   "source": [
    "**GROUP 15 PROJECT PROPOSAL: ANALYSIS OF THE STATISTICS OF THE TOP 500 TENNIS PLAYERS**"
   ]
  },
  {
   "cell_type": "markdown",
   "id": "264f511e-ea52-461c-b23f-f4d8c90e23da",
   "metadata": {},
   "source": [
    "***Exploratory Data Analysis of the Top 500 Tennis Players' Characteristics***"
   ]
  },
  {
   "cell_type": "markdown",
   "id": "9b3f1ca2-0b18-4432-a3b9-73d0183572a0",
   "metadata": {},
   "source": [
    "**INTRODUCTION:**\n",
    "\n",
    "For our project, we will be using a .csv dataset that has been created by \"The Ultimate Tennis Statistics\". This dataset contains information on the top 500 tennis players, including their age, height, country, handedness, backhand technique, current and best rank, seasons as a professional tennis player, in addition to a few other less relevant variables.\n",
    "\n",
    "Tennis is a sport that is widely popular among players of all ages; most in which are striving to make it to the professional level of play. At this level, the top 500 players are known not only for the exceptional tennis playing skills, but also their wealth and prestige. This is why we have taken an interest in predicting a professional tennis player's total prize money based upon their age and best career ranking, using the k-nearest neighbors regression algorithm. \n",
    "\n",
    "***Predictive Question:***\n",
    "\n",
    "Can we predict a professional tennis player's total prize money based on their age and best career ranking?\n"
   ]
  },
  {
   "cell_type": "markdown",
   "id": "f6cef7d4-2415-44a9-bcf8-3f4bcf936570",
   "metadata": {},
   "source": [
    "**Preliminary exploratory data analysis:**"
   ]
  },
  {
   "cell_type": "markdown",
   "id": "016e99ff-ec68-4c47-ad05-70f8c22b78fd",
   "metadata": {},
   "source": [
    "- Demonstrate that the dataset can be read from the web into R \n",
    "- Clean and wrangle your data into a tidy format\n",
    "- Using only training data, summarize the data in at least one table (this is exploratory data analysis). An example of a useful table could be one that reports the number of observations in each class, the means of the predictor variables you plan to use in your analysis and how many rows have missing data. \n",
    "- Using only training data, visualize the data with at least one plot relevant to the analysis you plan to do (this is exploratory data analysis). An example of a useful visualization could be one that compares the distributions of each of the predictor variables you plan to use in your analysis."
   ]
  },
  {
   "cell_type": "code",
   "execution_count": 4,
   "id": "33840c60-ae33-4b6e-a2d4-fd5453071c6b",
   "metadata": {
    "tags": []
   },
   "outputs": [
    {
     "name": "stderr",
     "output_type": "stream",
     "text": [
      "Warning message:\n",
      "“unable to access index for repository https://cran.r-project.org/src/contrib:\n",
      "  cannot open URL 'https://cran.r-project.org/src/contrib/PACKAGES'”\n",
      "Warning message:\n",
      "“package ‘janitor’ is not available for this version of R\n",
      "\n",
      "A version of this package for your version of R might be available elsewhere,\n",
      "see the ideas at\n",
      "https://cran.r-project.org/doc/manuals/r-patched/R-admin.html#Installing-packages”\n"
     ]
    },
    {
     "ename": "ERROR",
     "evalue": "Error in library(janitor): there is no package called ‘janitor’\n",
     "output_type": "error",
     "traceback": [
      "Error in library(janitor): there is no package called ‘janitor’\nTraceback:\n",
      "1. library(janitor)"
     ]
    }
   ],
   "source": [
    "library(tidyverse)\n",
    "library(repr)\n",
    "library(tidymodels)\n",
    "library(dplyr)\n",
    "install.packages(\"janitor\")\n",
    "library(janitor)"
   ]
  },
  {
   "cell_type": "code",
   "execution_count": null,
   "id": "c4747f51-ccc7-4432-9f93-a1cdfc4e8a77",
   "metadata": {
    "tags": []
   },
   "outputs": [],
   "source": [
    "tennis_data <- read_csv(\"https://raw.githubusercontent.com/Myralalala/group15/main/tennis_player_stats.csv\")"
   ]
  },
  {
   "cell_type": "code",
   "execution_count": null,
   "id": "bc082127-8608-45f2-b22e-868891a55f8c",
   "metadata": {
    "tags": []
   },
   "outputs": [],
   "source": [
    "#clean and wrangle the data\n",
    "tennis_data <- tennis_data |>\n",
    "    clean_names() |>\n",
    "    select(age, best_rank, prize_money)\n",
    "\n",
    "#Tidying the data\n",
    "tennis_data_tidy <- tennis_data |>\n",
    "        separate(col = age,\n",
    "                 into = c(\"age\", \"Birthdate\"),\n",
    "                 sep = \" \") |>\n",
    "        separate(col = 'Best Rank',\n",
    "                 into = c(\"best_rank\", \"best_rank_date\"),\n",
    "                 sep = \" \") |>\n",
    "        separate(col = 'Prize Money',\n",
    "                 into = c(\"Currency\", \"prize_money\"),\n",
    "                 sep = \"$\") |>\n",
    "        select(age, best_rank, prize_money)\n",
    "\n",
    "tennis_data_tidy"
   ]
  },
  {
   "cell_type": "code",
   "execution_count": null,
   "id": "585a4f6a-dc89-4740-b2b2-11b497b5eeeb",
   "metadata": {
    "tags": []
   },
   "outputs": [],
   "source": [
    "#using the training set:\n",
    "    #summarize the data from at least one table\n",
    "        #ex: counts of observations, means of the predictors to be used & number of rows missing data\n",
    "    #visualize the data with at least one plot relevant to the analysis we plan to do"
   ]
  },
  {
   "cell_type": "markdown",
   "id": "6b6aa655-a00c-4d49-b3dc-66aeb3c360d8",
   "metadata": {},
   "source": [
    "**Methods:**\n",
    "\n",
    "-> Explain how you will conduct either your data analysis and which variables/columns you will use"
   ]
  },
  {
   "cell_type": "markdown",
   "id": "9d5d7e90-740f-40f0-b22b-81dc01af2bbc",
   "metadata": {},
   "source": [
    "**Expected outcomes and significance:**\n",
    "\n",
    "* What do you expect to find?\n",
    "* What impact could such findings have?\n",
    "* What future questions could this lead to?\n"
   ]
  },
  {
   "cell_type": "markdown",
   "id": "8e3659a2-b9fb-4dae-b683-702c893e86a4",
   "metadata": {},
   "source": [
    "***NOTE: needs to be submitted as both .ipynb and .html files by one of us***"
   ]
  },
  {
   "cell_type": "code",
   "execution_count": null,
   "id": "3c614ff7-99f0-42c2-a2c3-730b01ad49a2",
   "metadata": {},
   "outputs": [],
   "source": []
  }
 ],
 "metadata": {
  "kernelspec": {
   "display_name": "R",
   "language": "R",
   "name": "ir"
  },
  "language_info": {
   "codemirror_mode": "r",
   "file_extension": ".r",
   "mimetype": "text/x-r-source",
   "name": "R",
   "pygments_lexer": "r",
   "version": "4.2.2"
  },
  "widgets": {
   "application/vnd.jupyter.widget-state+json": {
    "state": {},
    "version_major": 2,
    "version_minor": 0
   }
  }
 },
 "nbformat": 4,
 "nbformat_minor": 5
}
