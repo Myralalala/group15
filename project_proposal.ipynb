{
 "cells": [
  {
   "cell_type": "markdown",
   "id": "0c6e3639-4abe-45bb-a6db-d7c4f2135bd9",
   "metadata": {},
   "source": [
    "**GROUP 15 PROJECT PROPOSAL: ANALYSIS OF *DATA_NAME***"
   ]
  },
  {
   "cell_type": "markdown",
   "id": "8210b45b-e871-4253-8038-4a20ac3cd5e5",
   "metadata": {},
   "source": [
    "**Introduction:**\n",
    "\n",
    "* Provide some relevant background information on the topic\n",
    "* Clearly state the question you will try to answer with your project\n",
    "* Identify and describe the dataset that will be used to answer the question"
   ]
  },
  {
   "cell_type": "markdown",
   "id": "f6cef7d4-2415-44a9-bcf8-3f4bcf936570",
   "metadata": {},
   "source": [
    "**Preliminary exploratory data analysis:**"
   ]
  },
  {
   "cell_type": "code",
   "execution_count": 1,
   "id": "bc082127-8608-45f2-b22e-868891a55f8c",
   "metadata": {
    "tags": []
   },
   "outputs": [],
   "source": [
    "#read in file\n",
    "#clean and wrangle the data"
   ]
  },
  {
   "cell_type": "code",
   "execution_count": 2,
   "id": "585a4f6a-dc89-4740-b2b2-11b497b5eeeb",
   "metadata": {
    "tags": []
   },
   "outputs": [],
   "source": [
    "#using the training set:\n",
    "    #summarize the data from at least one table\n",
    "        #ex: counts of observations, means of the predictors to be used & number of rows missing data\n",
    "    #visualize the data with at least one plot relevant to the analysis we plan to do"
   ]
  },
  {
   "cell_type": "markdown",
   "id": "6b6aa655-a00c-4d49-b3dc-66aeb3c360d8",
   "metadata": {},
   "source": [
    "**Methods:**\n",
    "\n",
    "-> Explain how you will conduct either your data analysis and which variables/columns you will use"
   ]
  },
  {
   "cell_type": "markdown",
   "id": "9d5d7e90-740f-40f0-b22b-81dc01af2bbc",
   "metadata": {},
   "source": [
    "**Expected outcomes and significance:**\n",
    "\n",
    "* What do you expect to find?\n",
    "* What impact could such findings have?\n",
    "* What future questions could this lead to?\n"
   ]
  },
  {
   "cell_type": "markdown",
   "id": "8e3659a2-b9fb-4dae-b683-702c893e86a4",
   "metadata": {},
   "source": [
    "***NOTE: needs to be submitted as both .ipynb and .html files by one of us***"
   ]
  },
  {
   "cell_type": "code",
   "execution_count": null,
   "id": "3c614ff7-99f0-42c2-a2c3-730b01ad49a2",
   "metadata": {},
   "outputs": [],
   "source": []
  }
 ],
 "metadata": {
  "kernelspec": {
   "display_name": "R",
   "language": "R",
   "name": "ir"
  },
  "language_info": {
   "codemirror_mode": "r",
   "file_extension": ".r",
   "mimetype": "text/x-r-source",
   "name": "R",
   "pygments_lexer": "r",
   "version": "4.2.2"
  }
 },
 "nbformat": 4,
 "nbformat_minor": 5
}
