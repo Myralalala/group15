{
 "cells": [
  {
   "cell_type": "markdown",
   "id": "0c6e3639-4abe-45bb-a6db-d7c4f2135bd9",
   "metadata": {},
   "source": [
    "**GROUP 15 PROJECT PROPOSAL: ANALYSIS OF THE STATISTICS OF THE TOP 500 TENNIS PLAYERS**"
   ]
  },
  {
   "cell_type": "markdown",
   "id": "264f511e-ea52-461c-b23f-f4d8c90e23da",
   "metadata": {},
   "source": [
    "***Exploratory Data Analysis of the Top 500 Tennis Players' Characteristics***"
   ]
  },
  {
   "cell_type": "markdown",
   "id": "8210b45b-e871-4253-8038-4a20ac3cd5e5",
   "metadata": {},
   "source": [
    "**Introduction:**\n",
    "\n",
    "* Provide some relevant background information on the topic\n",
    "* Clearly state the question you will try to answer with your project\n",
    "* Identify and describe the dataset that will be used to answer the question"
   ]
  },
  {
   "cell_type": "markdown",
   "id": "9b3f1ca2-0b18-4432-a3b9-73d0183572a0",
   "metadata": {},
   "source": [
    "**INTRODUCTION: (DRAFT)**\n",
    "\n",
    "Tennis is a sport that is widely popular among players of all ages. On the dataset of the top 500 tennis players, we intend to conduct an exploratory data analysis (EDA). As a result of this analysis, we will gain insight into the characteristics of these players as well as explore potential relationships within the data. Tennis players exhibit a variety of playing styles, including differing backhand techniques. In this project, we aim to investigate whether the type of backhand (1-handed or 2-handed) has a significant effect on a player's ranking in the top 500 tennis players' dataset.\n",
    "\n",
    "***Question:***\n",
    "\n",
    "Does the type of backhand technique (1-handed or 2-handed) influence a player's rank among the top 500 tennis players?\n",
    "\n",
    "\n",
    "***Dataset Description:***\n",
    "\n",
    "We will use a CSV dataset containing information on the age, country, handedness, rank, backhand type, height, favorite playing surface, and years as a professional player for the top 500 tennis players.\n",
    "\n",
    "***Preliminary Exploratory Data Analysis:***\n",
    "\n",
    "* Demonstrate data import into the Notebook and data cleaning\n",
    "* Provide summary statistics and visualizations highlighting the distribution of player ranks for both 1-handed and 2-handed backhand players\n",
    "\n",
    "***Expected Outcomes and Significance:***\n",
    "\n",
    "* We expect that 2-handed backhand players will have a significant improvement on a player's rank because it is more consistent\n",
    "* Looking at the data, most of the tennis players use 2-handed backhand\n"
   ]
  },
  {
   "cell_type": "markdown",
   "id": "5b757767-d9ee-484f-8e9e-376601249047",
   "metadata": {
    "tags": []
   },
   "source": [
    "**Questions??**\n",
    "\n",
    "* We could compare how different court surfaces affect the player's performance such as their ranks\n",
    "* We could predict whether 2 handed backhand players have a higher chance of winning a title or single handed players\n",
    "* Is there a correlation between a player's age and their current ranking?\n",
    "* Is there a relationship between a player's country and their preferred playing surface?\n",
    "* Does the type of backhand (1-handed or 2-handed) have an impact on a player's rank?\n",
    "* Can KNN be used to predict a player's rank based on their age, height, and years as a pro?\n",
    "* Can we predict their Prize Money based on Turned Pro, Age, and Best Rank?\n",
    "\n",
    "\n",
    "\n",
    "\n"
   ]
  },
  {
   "cell_type": "markdown",
   "id": "f6cef7d4-2415-44a9-bcf8-3f4bcf936570",
   "metadata": {},
   "source": [
    "**Preliminary exploratory data analysis:**"
   ]
  },
  {
   "cell_type": "markdown",
   "id": "016e99ff-ec68-4c47-ad05-70f8c22b78fd",
   "metadata": {},
   "source": [
    "- Demonstrate that the dataset can be read from the web into R \n",
    "- Clean and wrangle your data into a tidy format\n",
    "- Using only training data, summarize the data in at least one table (this is exploratory data analysis). An example of a useful table could be one that reports the number of observations in each class, the means of the predictor variables you plan to use in your analysis and how many rows have missing data. \n",
    "- Using only training data, visualize the data with at least one plot relevant to the analysis you plan to do (this is exploratory data analysis). An example of a useful visualization could be one that compares the distributions of each of the predictor variables you plan to use in your analysis."
   ]
  },
  {
   "cell_type": "code",
   "execution_count": 1,
   "id": "e6d2c97f-4c6c-4f85-b161-23eb3cebe97a",
   "metadata": {
    "tags": []
   },
   "outputs": [
    {
     "name": "stderr",
     "output_type": "stream",
     "text": [
      "── \u001b[1mAttaching packages\u001b[22m ─────────────────────────────────────── tidyverse 1.3.2 ──\n",
      "\u001b[32m✔\u001b[39m \u001b[34mggplot2\u001b[39m 3.4.2     \u001b[32m✔\u001b[39m \u001b[34mpurrr  \u001b[39m 1.0.1\n",
      "\u001b[32m✔\u001b[39m \u001b[34mtibble \u001b[39m 3.2.1     \u001b[32m✔\u001b[39m \u001b[34mdplyr  \u001b[39m 1.1.1\n",
      "\u001b[32m✔\u001b[39m \u001b[34mtidyr  \u001b[39m 1.3.0     \u001b[32m✔\u001b[39m \u001b[34mstringr\u001b[39m 1.5.0\n",
      "\u001b[32m✔\u001b[39m \u001b[34mreadr  \u001b[39m 2.1.3     \u001b[32m✔\u001b[39m \u001b[34mforcats\u001b[39m 0.5.2\n",
      "── \u001b[1mConflicts\u001b[22m ────────────────────────────────────────── tidyverse_conflicts() ──\n",
      "\u001b[31m✖\u001b[39m \u001b[34mdplyr\u001b[39m::\u001b[32mfilter()\u001b[39m masks \u001b[34mstats\u001b[39m::filter()\n",
      "\u001b[31m✖\u001b[39m \u001b[34mdplyr\u001b[39m::\u001b[32mlag()\u001b[39m    masks \u001b[34mstats\u001b[39m::lag()\n",
      "── \u001b[1mAttaching packages\u001b[22m ────────────────────────────────────── tidymodels 1.0.0 ──\n",
      "\n",
      "\u001b[32m✔\u001b[39m \u001b[34mbroom       \u001b[39m 1.0.2     \u001b[32m✔\u001b[39m \u001b[34mrsample     \u001b[39m 1.1.1\n",
      "\u001b[32m✔\u001b[39m \u001b[34mdials       \u001b[39m 1.1.0     \u001b[32m✔\u001b[39m \u001b[34mtune        \u001b[39m 1.0.1\n",
      "\u001b[32m✔\u001b[39m \u001b[34minfer       \u001b[39m 1.0.4     \u001b[32m✔\u001b[39m \u001b[34mworkflows   \u001b[39m 1.1.2\n",
      "\u001b[32m✔\u001b[39m \u001b[34mmodeldata   \u001b[39m 1.0.1     \u001b[32m✔\u001b[39m \u001b[34mworkflowsets\u001b[39m 1.0.0\n",
      "\u001b[32m✔\u001b[39m \u001b[34mparsnip     \u001b[39m 1.0.3     \u001b[32m✔\u001b[39m \u001b[34myardstick   \u001b[39m 1.1.0\n",
      "\u001b[32m✔\u001b[39m \u001b[34mrecipes     \u001b[39m 1.0.4     \n",
      "\n",
      "── \u001b[1mConflicts\u001b[22m ───────────────────────────────────────── tidymodels_conflicts() ──\n",
      "\u001b[31m✖\u001b[39m \u001b[34mscales\u001b[39m::\u001b[32mdiscard()\u001b[39m masks \u001b[34mpurrr\u001b[39m::discard()\n",
      "\u001b[31m✖\u001b[39m \u001b[34mdplyr\u001b[39m::\u001b[32mfilter()\u001b[39m   masks \u001b[34mstats\u001b[39m::filter()\n",
      "\u001b[31m✖\u001b[39m \u001b[34mrecipes\u001b[39m::\u001b[32mfixed()\u001b[39m  masks \u001b[34mstringr\u001b[39m::fixed()\n",
      "\u001b[31m✖\u001b[39m \u001b[34mdplyr\u001b[39m::\u001b[32mlag()\u001b[39m      masks \u001b[34mstats\u001b[39m::lag()\n",
      "\u001b[31m✖\u001b[39m \u001b[34myardstick\u001b[39m::\u001b[32mspec()\u001b[39m masks \u001b[34mreadr\u001b[39m::spec()\n",
      "\u001b[31m✖\u001b[39m \u001b[34mrecipes\u001b[39m::\u001b[32mstep()\u001b[39m   masks \u001b[34mstats\u001b[39m::step()\n",
      "\u001b[34m•\u001b[39m Dig deeper into tidy modeling with R at \u001b[32mhttps://www.tmwr.org\u001b[39m\n",
      "\n"
     ]
    }
   ],
   "source": [
    "library(tidyverse)\n",
    "library(repr)\n",
    "library(tidymodels)"
   ]
  },
  {
   "cell_type": "code",
   "execution_count": 4,
   "id": "c4747f51-ccc7-4432-9f93-a1cdfc4e8a77",
   "metadata": {
    "tags": []
   },
   "outputs": [],
   "source": [
    "download.file(\"https://raw.githubusercontent.com/Myralalala/group15/main/player_stats.csv\", \"tennis_player_stats.csv\") "
   ]
  },
  {
   "cell_type": "code",
   "execution_count": 7,
   "id": "bc082127-8608-45f2-b22e-868891a55f8c",
   "metadata": {
    "tags": []
   },
   "outputs": [
    {
     "name": "stderr",
     "output_type": "stream",
     "text": [
      "\u001b[1m\u001b[22mNew names:\n",
      "\u001b[36m•\u001b[39m `` -> `...1`\n",
      "\u001b[1mRows: \u001b[22m\u001b[34m500\u001b[39m \u001b[1mColumns: \u001b[22m\u001b[34m38\u001b[39m\n",
      "\u001b[36m──\u001b[39m \u001b[1mColumn specification\u001b[22m \u001b[36m────────────────────────────────────────────────────────\u001b[39m\n",
      "\u001b[1mDelimiter:\u001b[22m \",\"\n",
      "\u001b[31mchr\u001b[39m (25): Age, Country, Plays, Wikipedia, Current Rank, Best Rank, Name, Bac...\n",
      "\u001b[32mdbl\u001b[39m (13): ...1, Turned Pro, Seasons, Titles, Best Season, Retired, Masters, ...\n",
      "\n",
      "\u001b[36mℹ\u001b[39m Use `spec()` to retrieve the full column specification for this data.\n",
      "\u001b[36mℹ\u001b[39m Specify the column types or set `show_col_types = FALSE` to quiet this message.\n"
     ]
    }
   ],
   "source": [
    "tennis_data <- read_delim(\"tennis_player_stats.csv\")\n",
    "#clean and wrangle the data"
   ]
  },
  {
   "cell_type": "code",
   "execution_count": 2,
   "id": "585a4f6a-dc89-4740-b2b2-11b497b5eeeb",
   "metadata": {
    "tags": []
   },
   "outputs": [],
   "source": [
    "#using the training set:\n",
    "    #summarize the data from at least one table\n",
    "        #ex: counts of observations, means of the predictors to be used & number of rows missing data\n",
    "    #visualize the data with at least one plot relevant to the analysis we plan to do"
   ]
  },
  {
   "cell_type": "markdown",
   "id": "6b6aa655-a00c-4d49-b3dc-66aeb3c360d8",
   "metadata": {},
   "source": [
    "**Methods:**\n",
    "\n",
    "-> Explain how you will conduct either your data analysis and which variables/columns you will use"
   ]
  },
  {
   "cell_type": "markdown",
   "id": "9d5d7e90-740f-40f0-b22b-81dc01af2bbc",
   "metadata": {},
   "source": [
    "**Expected outcomes and significance:**\n",
    "\n",
    "* What do you expect to find?\n",
    "* What impact could such findings have?\n",
    "* What future questions could this lead to?\n"
   ]
  },
  {
   "cell_type": "markdown",
   "id": "8e3659a2-b9fb-4dae-b683-702c893e86a4",
   "metadata": {},
   "source": [
    "***NOTE: needs to be submitted as both .ipynb and .html files by one of us***"
   ]
  },
  {
   "cell_type": "code",
   "execution_count": null,
   "id": "3c614ff7-99f0-42c2-a2c3-730b01ad49a2",
   "metadata": {},
   "outputs": [],
   "source": []
  }
 ],
 "metadata": {
  "kernelspec": {
   "display_name": "R",
   "language": "R",
   "name": "ir"
  },
  "language_info": {
   "codemirror_mode": "r",
   "file_extension": ".r",
   "mimetype": "text/x-r-source",
   "name": "R",
   "pygments_lexer": "r",
   "version": "4.2.2"
  },
  "widgets": {
   "application/vnd.jupyter.widget-state+json": {
    "state": {},
    "version_major": 2,
    "version_minor": 0
   }
  }
 },
 "nbformat": 4,
 "nbformat_minor": 5
}
